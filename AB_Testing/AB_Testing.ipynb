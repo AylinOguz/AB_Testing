{
 "cells": [
  {
   "cell_type": "markdown",
   "id": "8e201d8b-f6f2-4a8a-bdde-994ffd55f317",
   "metadata": {},
   "source": [
    "# __Comparison of Conversion Rates Between Bidding Methods Using A/B Testing__"
   ]
  },
  {
   "cell_type": "markdown",
   "id": "bbdccc79-6c77-4049-8a6d-520d7e37150a",
   "metadata": {},
   "source": [
    "## __Story of Dataset__\n",
    "This dataset contains information from a company’s website, including the number of ads shown \n",
    "to users, the number of clicks on those ads, and the revenue generated from purchases. \n",
    "There are two separate datasets for the control and test groups, located on different sheets of the \"ab_testing.xlsx\" Excel file. \n",
    "The control group was exposed to Maximum Bidding, while the test group experienced Average Bidding.\n"
   ]
  },
  {
   "cell_type": "markdown",
   "id": "9a4155bc-2635-4c3c-bbda-49c7aa7fb70b",
   "metadata": {},
   "source": [
    "__Variables__\n",
    "\n",
    "- impression: Number of ad impressions\n",
    "- Click: Number of clicks on the displayed ads\n",
    "- Purchase: Number of products purchased after clicking the ads\n",
    "- Earning: Revenue generated from the purchased products"
   ]
  },
  {
   "cell_type": "markdown",
   "id": "191af1e9-d119-44c6-ab59-594b211bdad7",
   "metadata": {},
   "source": [
    "### __Preparing and Analyzing the Data__"
   ]
  },
  {
   "cell_type": "code",
   "execution_count": 10,
   "id": "f24d90a4-cfbf-459d-a383-cd216b2bc714",
   "metadata": {},
   "outputs": [],
   "source": [
    "\n",
    "import pandas as pd\n",
    "import statsmodels.stats.api as sms\n",
    "from pygments.lexers.macaulay2 import M2KEYWORDS\n",
    "from scipy.stats import ttest_1samp, shapiro, levene, ttest_ind, mannwhitneyu, \\\n",
    "    pearsonr, spearmanr, kendalltau, f_oneway, kruskal\n",
    "from statsmodels.stats.proportion import proportions_ztest\n",
    "\n",
    "pd.set_option('display.max_columns', None)\n",
    "pd.set_option('display.max_rows', 10)\n",
    "pd.set_option('display.float_format', lambda x: '%.5f' % x)"
   ]
  },
  {
   "cell_type": "markdown",
   "id": "144fe658-9300-4731-9b1d-ce28e50fd3e9",
   "metadata": {},
   "source": [
    "__Loading the Data__"
   ]
  },
  {
   "cell_type": "code",
   "execution_count": 11,
   "id": "07872dcc-743b-4b39-a284-b6b46fe6549b",
   "metadata": {},
   "outputs": [],
   "source": [
    "df_control = pd.read_excel(\"datasets/ab_testing.xlsx\",  sheet_name=\"Control Group\")\n",
    "df_test = pd.read_excel(\"datasets/ab_testing.xlsx\",  sheet_name=\"Test Group\")"
   ]
  },
  {
   "cell_type": "code",
   "execution_count": 12,
   "id": "1b463231-efe4-4245-b01e-f8e0ed6e9965",
   "metadata": {},
   "outputs": [],
   "source": [
    "df_test.columns = [\"Impression_test\", \"Click_test\", \"Purchase_test\",\"Earning_test\"]\n",
    "df_control.columns =  [\"Impression_control\", \"Click_control\", \"Purchase_control\",\"Earning_control\"]"
   ]
  },
  {
   "cell_type": "code",
   "execution_count": 13,
   "id": "6d750042-84e9-40fd-a6a7-941f4ecd7f4c",
   "metadata": {},
   "outputs": [],
   "source": [
    "df = pd.concat([df_control,df_test], axis=1)\n"
   ]
  },
  {
   "cell_type": "code",
   "execution_count": 14,
   "id": "93334fa9-ce97-46f6-bf8b-3b30d21927ec",
   "metadata": {},
   "outputs": [
    {
     "data": {
      "text/html": [
       "<div>\n",
       "<style scoped>\n",
       "    .dataframe tbody tr th:only-of-type {\n",
       "        vertical-align: middle;\n",
       "    }\n",
       "\n",
       "    .dataframe tbody tr th {\n",
       "        vertical-align: top;\n",
       "    }\n",
       "\n",
       "    .dataframe thead th {\n",
       "        text-align: right;\n",
       "    }\n",
       "</style>\n",
       "<table border=\"1\" class=\"dataframe\">\n",
       "  <thead>\n",
       "    <tr style=\"text-align: right;\">\n",
       "      <th></th>\n",
       "      <th>Impression_control</th>\n",
       "      <th>Click_control</th>\n",
       "      <th>Purchase_control</th>\n",
       "      <th>Earning_control</th>\n",
       "      <th>Impression_test</th>\n",
       "      <th>Click_test</th>\n",
       "      <th>Purchase_test</th>\n",
       "      <th>Earning_test</th>\n",
       "    </tr>\n",
       "  </thead>\n",
       "  <tbody>\n",
       "    <tr>\n",
       "      <th>0</th>\n",
       "      <td>82529.45927</td>\n",
       "      <td>6090.07732</td>\n",
       "      <td>665.21125</td>\n",
       "      <td>2311.27714</td>\n",
       "      <td>120103.50380</td>\n",
       "      <td>3216.54796</td>\n",
       "      <td>702.16035</td>\n",
       "      <td>1939.61124</td>\n",
       "    </tr>\n",
       "    <tr>\n",
       "      <th>1</th>\n",
       "      <td>98050.45193</td>\n",
       "      <td>3382.86179</td>\n",
       "      <td>315.08489</td>\n",
       "      <td>1742.80686</td>\n",
       "      <td>134775.94336</td>\n",
       "      <td>3635.08242</td>\n",
       "      <td>834.05429</td>\n",
       "      <td>2929.40582</td>\n",
       "    </tr>\n",
       "    <tr>\n",
       "      <th>2</th>\n",
       "      <td>82696.02355</td>\n",
       "      <td>4167.96575</td>\n",
       "      <td>458.08374</td>\n",
       "      <td>1797.82745</td>\n",
       "      <td>107806.62079</td>\n",
       "      <td>3057.14356</td>\n",
       "      <td>422.93426</td>\n",
       "      <td>2526.24488</td>\n",
       "    </tr>\n",
       "    <tr>\n",
       "      <th>3</th>\n",
       "      <td>109914.40040</td>\n",
       "      <td>4910.88224</td>\n",
       "      <td>487.09077</td>\n",
       "      <td>1696.22918</td>\n",
       "      <td>116445.27553</td>\n",
       "      <td>4650.47391</td>\n",
       "      <td>429.03353</td>\n",
       "      <td>2281.42857</td>\n",
       "    </tr>\n",
       "    <tr>\n",
       "      <th>4</th>\n",
       "      <td>108457.76263</td>\n",
       "      <td>5987.65581</td>\n",
       "      <td>441.03405</td>\n",
       "      <td>1543.72018</td>\n",
       "      <td>145082.51684</td>\n",
       "      <td>5201.38772</td>\n",
       "      <td>749.86044</td>\n",
       "      <td>2781.69752</td>\n",
       "    </tr>\n",
       "  </tbody>\n",
       "</table>\n",
       "</div>"
      ],
      "text/plain": [
       "   Impression_control  Click_control  Purchase_control  Earning_control  \\\n",
       "0         82529.45927     6090.07732         665.21125       2311.27714   \n",
       "1         98050.45193     3382.86179         315.08489       1742.80686   \n",
       "2         82696.02355     4167.96575         458.08374       1797.82745   \n",
       "3        109914.40040     4910.88224         487.09077       1696.22918   \n",
       "4        108457.76263     5987.65581         441.03405       1543.72018   \n",
       "\n",
       "   Impression_test  Click_test  Purchase_test  Earning_test  \n",
       "0     120103.50380  3216.54796      702.16035    1939.61124  \n",
       "1     134775.94336  3635.08242      834.05429    2929.40582  \n",
       "2     107806.62079  3057.14356      422.93426    2526.24488  \n",
       "3     116445.27553  4650.47391      429.03353    2281.42857  \n",
       "4     145082.51684  5201.38772      749.86044    2781.69752  "
      ]
     },
     "execution_count": 14,
     "metadata": {},
     "output_type": "execute_result"
    }
   ],
   "source": [
    "df.head()"
   ]
  },
  {
   "cell_type": "code",
   "execution_count": 15,
   "id": "2f746b01-5e7c-4dce-b8a9-64a0deb19711",
   "metadata": {},
   "outputs": [
    {
     "data": {
      "text/plain": [
       "Impression_control    0\n",
       "Click_control         0\n",
       "Purchase_control      0\n",
       "Earning_control       0\n",
       "Impression_test       0\n",
       "Click_test            0\n",
       "Purchase_test         0\n",
       "Earning_test          0\n",
       "dtype: int64"
      ]
     },
     "execution_count": 15,
     "metadata": {},
     "output_type": "execute_result"
    }
   ],
   "source": [
    "df.isnull().sum()"
   ]
  },
  {
   "cell_type": "code",
   "execution_count": 16,
   "id": "2ca9e4a8-2d1a-40a5-aada-b246d1556488",
   "metadata": {
    "scrolled": true
   },
   "outputs": [
    {
     "data": {
      "text/html": [
       "<div>\n",
       "<style scoped>\n",
       "    .dataframe tbody tr th:only-of-type {\n",
       "        vertical-align: middle;\n",
       "    }\n",
       "\n",
       "    .dataframe tbody tr th {\n",
       "        vertical-align: top;\n",
       "    }\n",
       "\n",
       "    .dataframe thead th {\n",
       "        text-align: right;\n",
       "    }\n",
       "</style>\n",
       "<table border=\"1\" class=\"dataframe\">\n",
       "  <thead>\n",
       "    <tr style=\"text-align: right;\">\n",
       "      <th></th>\n",
       "      <th>count</th>\n",
       "      <th>mean</th>\n",
       "      <th>std</th>\n",
       "      <th>min</th>\n",
       "      <th>25%</th>\n",
       "      <th>50%</th>\n",
       "      <th>75%</th>\n",
       "      <th>max</th>\n",
       "    </tr>\n",
       "  </thead>\n",
       "  <tbody>\n",
       "    <tr>\n",
       "      <th>Impression_control</th>\n",
       "      <td>40.00000</td>\n",
       "      <td>101711.44907</td>\n",
       "      <td>20302.15786</td>\n",
       "      <td>45475.94296</td>\n",
       "      <td>85726.69035</td>\n",
       "      <td>99790.70108</td>\n",
       "      <td>115212.81654</td>\n",
       "      <td>147539.33633</td>\n",
       "    </tr>\n",
       "    <tr>\n",
       "      <th>Click_control</th>\n",
       "      <td>40.00000</td>\n",
       "      <td>5100.65737</td>\n",
       "      <td>1329.98550</td>\n",
       "      <td>2189.75316</td>\n",
       "      <td>4124.30413</td>\n",
       "      <td>5001.22060</td>\n",
       "      <td>5923.80360</td>\n",
       "      <td>7959.12507</td>\n",
       "    </tr>\n",
       "    <tr>\n",
       "      <th>Purchase_control</th>\n",
       "      <td>40.00000</td>\n",
       "      <td>550.89406</td>\n",
       "      <td>134.10820</td>\n",
       "      <td>267.02894</td>\n",
       "      <td>470.09553</td>\n",
       "      <td>531.20631</td>\n",
       "      <td>637.95709</td>\n",
       "      <td>801.79502</td>\n",
       "    </tr>\n",
       "    <tr>\n",
       "      <th>Earning_control</th>\n",
       "      <td>40.00000</td>\n",
       "      <td>1908.56830</td>\n",
       "      <td>302.91778</td>\n",
       "      <td>1253.98952</td>\n",
       "      <td>1685.84720</td>\n",
       "      <td>1975.16052</td>\n",
       "      <td>2119.80278</td>\n",
       "      <td>2497.29522</td>\n",
       "    </tr>\n",
       "    <tr>\n",
       "      <th>Impression_test</th>\n",
       "      <td>40.00000</td>\n",
       "      <td>120512.41176</td>\n",
       "      <td>18807.44871</td>\n",
       "      <td>79033.83492</td>\n",
       "      <td>112691.97077</td>\n",
       "      <td>119291.30077</td>\n",
       "      <td>132050.57893</td>\n",
       "      <td>158605.92048</td>\n",
       "    </tr>\n",
       "    <tr>\n",
       "      <th>Click_test</th>\n",
       "      <td>40.00000</td>\n",
       "      <td>3967.54976</td>\n",
       "      <td>923.09507</td>\n",
       "      <td>1836.62986</td>\n",
       "      <td>3376.81902</td>\n",
       "      <td>3931.35980</td>\n",
       "      <td>4660.49791</td>\n",
       "      <td>6019.69508</td>\n",
       "    </tr>\n",
       "    <tr>\n",
       "      <th>Purchase_test</th>\n",
       "      <td>40.00000</td>\n",
       "      <td>582.10610</td>\n",
       "      <td>161.15251</td>\n",
       "      <td>311.62952</td>\n",
       "      <td>444.62683</td>\n",
       "      <td>551.35573</td>\n",
       "      <td>699.86236</td>\n",
       "      <td>889.91046</td>\n",
       "    </tr>\n",
       "    <tr>\n",
       "      <th>Earning_test</th>\n",
       "      <td>40.00000</td>\n",
       "      <td>2514.89073</td>\n",
       "      <td>282.73085</td>\n",
       "      <td>1939.61124</td>\n",
       "      <td>2280.53743</td>\n",
       "      <td>2544.66611</td>\n",
       "      <td>2761.54540</td>\n",
       "      <td>3171.48971</td>\n",
       "    </tr>\n",
       "  </tbody>\n",
       "</table>\n",
       "</div>"
      ],
      "text/plain": [
       "                      count         mean         std         min          25%  \\\n",
       "Impression_control 40.00000 101711.44907 20302.15786 45475.94296  85726.69035   \n",
       "Click_control      40.00000   5100.65737  1329.98550  2189.75316   4124.30413   \n",
       "Purchase_control   40.00000    550.89406   134.10820   267.02894    470.09553   \n",
       "Earning_control    40.00000   1908.56830   302.91778  1253.98952   1685.84720   \n",
       "Impression_test    40.00000 120512.41176 18807.44871 79033.83492 112691.97077   \n",
       "Click_test         40.00000   3967.54976   923.09507  1836.62986   3376.81902   \n",
       "Purchase_test      40.00000    582.10610   161.15251   311.62952    444.62683   \n",
       "Earning_test       40.00000   2514.89073   282.73085  1939.61124   2280.53743   \n",
       "\n",
       "                            50%          75%          max  \n",
       "Impression_control  99790.70108 115212.81654 147539.33633  \n",
       "Click_control        5001.22060   5923.80360   7959.12507  \n",
       "Purchase_control      531.20631    637.95709    801.79502  \n",
       "Earning_control      1975.16052   2119.80278   2497.29522  \n",
       "Impression_test    119291.30077 132050.57893 158605.92048  \n",
       "Click_test           3931.35980   4660.49791   6019.69508  \n",
       "Purchase_test         551.35573    699.86236    889.91046  \n",
       "Earning_test         2544.66611   2761.54540   3171.48971  "
      ]
     },
     "execution_count": 16,
     "metadata": {},
     "output_type": "execute_result"
    }
   ],
   "source": [
    "df.describe().T"
   ]
  },
  {
   "cell_type": "markdown",
   "id": "22bab474-6bbf-4def-be00-b653f075bd0c",
   "metadata": {},
   "source": [
    "## __A/B Testing__"
   ]
  },
  {
   "cell_type": "markdown",
   "id": "f9ac375d-a5c0-4ddd-88ca-19894d2c4986",
   "metadata": {},
   "source": [
    "<span style=\"color:darkblue; font-weight:bold;\"> Analyze the average purchase (revenue) values for the control and test groups.</span>\n"
   ]
  },
  {
   "cell_type": "code",
   "execution_count": 17,
   "id": "d59bc456-9948-437d-a1a6-4a7417324ada",
   "metadata": {},
   "outputs": [
    {
     "data": {
      "text/plain": [
       "550.8940587702316"
      ]
     },
     "execution_count": 17,
     "metadata": {},
     "output_type": "execute_result"
    }
   ],
   "source": [
    "df[\"Purchase_control\"].mean()"
   ]
  },
  {
   "cell_type": "code",
   "execution_count": 18,
   "id": "e92a623f-0edc-4dbd-8410-0bd7df47c94f",
   "metadata": {},
   "outputs": [
    {
     "data": {
      "text/plain": [
       "582.1060966484677"
      ]
     },
     "execution_count": 18,
     "metadata": {},
     "output_type": "execute_result"
    }
   ],
   "source": [
    "df[\"Purchase_test\"].mean()"
   ]
  },
  {
   "cell_type": "markdown",
   "id": "c7b62c1e-504f-42ca-a09c-cc71117d218e",
   "metadata": {},
   "source": [
    "\n",
    "<span style=\"color:red; font-weight:normal;\">There is a mathematical difference between the mean of the Purchase_test variable and the mean of the Purchase_control variable\n",
    "</span>"
   ]
  },
  {
   "cell_type": "markdown",
   "id": "0bae5ff2-b606-40a1-8e1e-a6ac0d814b00",
   "metadata": {},
   "source": [
    "### __Define the Hypothesis__\n",
    " - H0: M1 = M2 (There is no significant difference between the two bidding methods.)\n",
    " \n",
    " - H1: M1 ≠ M2 (There is a significant difference between the two bidding methods.)\n"
   ]
  },
  {
   "cell_type": "markdown",
   "id": "e80eed01-714e-46d6-854e-2919eb7e1987",
   "metadata": {},
   "source": [
    "### __Assumption Checks:__\n",
    "\n",
    "- __Normality Assumption__\n",
    "\n",
    "  H0: The normality assumption is satisfied.\n",
    "\n",
    "  H1: The normality assumption is not satisfied.\n",
    " \n",
    "- __Homogeneity of Variance__\n",
    "\n",
    "   H0: Variances are homogeneous.\n",
    "\n",
    "  \n",
    "   H1: Variances are not homogeneous."
   ]
  },
  {
   "cell_type": "markdown",
   "id": "ce7c3c01-b9cf-41fb-835d-f87af5f63f42",
   "metadata": {},
   "source": [
    "### __Step 1: Normality Assumption__"
   ]
  },
  {
   "cell_type": "code",
   "execution_count": 19,
   "id": "ca4e9e6e-ec6d-4a28-a861-b31e6803db31",
   "metadata": {},
   "outputs": [
    {
     "name": "stdout",
     "output_type": "stream",
     "text": [
      "test_stat = 0.9773, p-value = 0.5891\n"
     ]
    }
   ],
   "source": [
    "test_stat, pvalue = shapiro(df[\"Purchase_control\"])\n",
    "print(\"test_stat = %.4f, p-value = %.4f\" %(test_stat,pvalue))"
   ]
  },
  {
   "cell_type": "markdown",
   "id": "31f93573-6216-4247-8d29-73a28c03f00a",
   "metadata": {},
   "source": [
    "\n",
    "<span style=\"color:red; font-weight:normal;\">p-value > 0.05 </span><br>\n",
    "<span style=\"color:red; font-weight:normal;\">H0 cannot be rejected</span><br>\n",
    "<span style=\"color:red; font-weight:normal;\"> The normality assumption is satisfied for the purchase control variable </span>\n"
   ]
  },
  {
   "cell_type": "code",
   "execution_count": 20,
   "id": "25fabf00-7619-454b-8e61-ba8b4a5d7f57",
   "metadata": {},
   "outputs": [
    {
     "name": "stdout",
     "output_type": "stream",
     "text": [
      "test_stat = 0.9589, p-value =  0.1541\n"
     ]
    }
   ],
   "source": [
    "test_stat, pvalue = shapiro(df[\"Purchase_test\"])\n",
    "print(\"test_stat = %.4f, p-value = % .4f\" %(test_stat,pvalue))"
   ]
  },
  {
   "cell_type": "markdown",
   "id": "fed19abb-5d35-4b08-a473-7c14dc0db841",
   "metadata": {},
   "source": [
    "\n",
    "<span style=\"color:red; font-weight:normal;\">p-value > 0.05 </span><br>\n",
    "<span style=\"color:red; font-weight:normal;\">H0 cannot be rejected</span><br>\n",
    "<span style=\"color:red; font-weight:normal;\"> The normality assumption is satisfied for the purchase test variable </span>\n"
   ]
  },
  {
   "cell_type": "markdown",
   "id": "b13cfa77-8e8f-4a3e-99a3-426eaee4fe1f",
   "metadata": {},
   "source": [
    "### __Step 2: Homogeneity of Variance__"
   ]
  },
  {
   "cell_type": "code",
   "execution_count": 21,
   "id": "98a648b9-2d6a-4a36-806b-6a7a3de06926",
   "metadata": {},
   "outputs": [
    {
     "name": "stdout",
     "output_type": "stream",
     "text": [
      "test_stat = 2.6393, p-value =  0.1083\n"
     ]
    }
   ],
   "source": [
    "test_stat, pvalue = levene(df[\"Purchase_control\"],df[\"Purchase_test\"])\n",
    "print(\"test_stat = %.4f, p-value = % .4f\" %(test_stat,pvalue))\n"
   ]
  },
  {
   "cell_type": "markdown",
   "id": "40734372-5861-47e3-bf41-41e3af2ffe50",
   "metadata": {},
   "source": [
    "\n",
    "<span style=\"color:red; font-weight:normal;\">p-value > 0.05 </span><br>\n",
    "<span style=\"color:red; font-weight:normal;\"> The homogeneity of variance assumption is satisfied </span>"
   ]
  },
  {
   "cell_type": "markdown",
   "id": "151d50d5-c34d-4405-8b89-f3e1c90a9f3a",
   "metadata": {},
   "source": [
    "### __Selecting the test based on the results of the assumptions__"
   ]
  },
  {
   "cell_type": "markdown",
   "id": "8afb174d-7fa7-437f-a56e-fb6bbbb6b515",
   "metadata": {},
   "source": [
    "<span style=\"color:darkblue; font-weight:bold;\"> Since the normality and homogeneity of variance assumptions are satisfied, the t-test will be used.</span>"
   ]
  },
  {
   "cell_type": "code",
   "execution_count": 22,
   "id": "4299e466-89b3-458a-ac80-a8a69652895c",
   "metadata": {},
   "outputs": [
    {
     "name": "stdout",
     "output_type": "stream",
     "text": [
      "test_stat = -0.9416, p-value = 0.3493\n"
     ]
    }
   ],
   "source": [
    "test_stat,pvalue = ttest_ind(df[\"Purchase_control\"],df[\"Purchase_test\"], equal_var=True)\n",
    "print(\"test_stat = %.4f, p-value = %.4f\" % (test_stat,pvalue))"
   ]
  },
  {
   "cell_type": "markdown",
   "id": "651ff1a6-ef3b-4d2b-a828-9b5816f3825b",
   "metadata": {},
   "source": [
    "<span style=\"color:red; font-weight:normal;\">\n",
    "Since the p-value is greater than 0.05, H0 cannot be rejected, meaning that there is no statistically significant difference \n",
    "in average purchases between the control and test groups.\n",
    "</span>"
   ]
  },
  {
   "cell_type": "markdown",
   "id": "642c1fde-2c77-4774-af29-a21bb7340415",
   "metadata": {},
   "source": [
    "###  __As a Result:__\n",
    "\n",
    "Based on the business problem, we conducted assumption checks and determined that the necessary conditions were met.  \n",
    "Therefore, an independent two-sample t-test (a parametric test) was applied.\n",
    "\n",
    "The results indicated that there is **no statistically significant difference** between the Average Bidding and Maximum Bidding methods at a 95% confidence level.\n",
    "\n",
    "Given this outcome, we recommend the client:\n",
    "\n",
    "- to consider **extending the test duration** and/or **expanding the dataset** for more robust conclusions,\n",
    "- and to test these bidding methods on other relevant metrics (e.g., Clicks, Revenue) to capture broader effects.\n",
    "\n",
    "In the absence of a significant difference, the **most efficient method in terms of cost, manageability, or operational performance** can be preferred."
   ]
  }
 ],
 "metadata": {
  "kernelspec": {
   "display_name": "Python 3 (ipykernel)",
   "language": "python",
   "name": "python3"
  },
  "language_info": {
   "codemirror_mode": {
    "name": "ipython",
    "version": 3
   },
   "file_extension": ".py",
   "mimetype": "text/x-python",
   "name": "python",
   "nbconvert_exporter": "python",
   "pygments_lexer": "ipython3",
   "version": "3.12.7"
  }
 },
 "nbformat": 4,
 "nbformat_minor": 5
}
